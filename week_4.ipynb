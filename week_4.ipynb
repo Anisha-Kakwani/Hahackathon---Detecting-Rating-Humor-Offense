{
 "cells": [
  {
   "cell_type": "code",
   "execution_count": 1,
   "metadata": {},
   "outputs": [
    {
     "name": "stdout",
     "output_type": "stream",
     "text": [
      "Version:  2.3.1\n",
      "Eager mode:  True\n",
      "Hub version:  0.9.0\n",
      "GPU is NOT AVAILABLE\n"
     ]
    }
   ],
   "source": [
    "import tensorflow as tf\n",
    "import tensorflow_hub as hub\n",
    "\n",
    "import matplotlib.pyplot as plt\n",
    "import pandas as pd\n",
    "\n",
    "print(\"Version: \", tf.__version__)\n",
    "print(\"Eager mode: \", tf.executing_eagerly())\n",
    "print(\"Hub version: \", hub.__version__)\n",
    "print(\"GPU is\", \"available\" if tf.config.list_physical_devices('GPU') else \"NOT AVAILABLE\")\n",
    "from sklearn.preprocessing import LabelEncoder\n",
    "from sklearn.model_selection import train_test_split"
   ]
  },
  {
   "cell_type": "code",
   "execution_count": 2,
   "metadata": {},
   "outputs": [],
   "source": [
    "dataset = pd.read_csv('Codalab-train-dataset.csv')\n",
    "X = dataset.iloc[:, 1].values\n",
    "Y = dataset.iloc[:,2].values\n"
   ]
  },
  {
   "cell_type": "code",
   "execution_count": 3,
   "metadata": {},
   "outputs": [
    {
     "data": {
      "text/plain": [
       "8000"
      ]
     },
     "execution_count": 3,
     "metadata": {},
     "output_type": "execute_result"
    }
   ],
   "source": [
    "label_encoder_Y = LabelEncoder()\n",
    "Y = label_encoder_Y.fit_transform(Y)\n",
    "len(X)"
   ]
  },
  {
   "cell_type": "code",
   "execution_count": 4,
   "metadata": {},
   "outputs": [
    {
     "name": "stdout",
     "output_type": "stream",
     "text": [
      "Training entries: 6400, test entries: 1600\n",
      "TRAIN Dataset -> \n",
      "['Better to have loved and lost, than to have never loved at all.'\n",
      " \"I left my Adderall in my Ford Fiesta. Now it's a @FordFocus\"\n",
      " \"My wife and I just made a porno. Too bad she's my late wife.\"\n",
      " 'Life consists not in holding good cards, but in playing those you hold well.'\n",
      " '\"Your tongue is germ free only if it is pink. If it is white there is a thin film of bacteria on it\"'\n",
      " \"My wife was excited when I blindfolded her in the bedroom... until I spun her around 10 times and let her know we're playing pin the tail on the donkey.\"\n",
      " 'Do deaf girls masturbate with one hand so they can moan with the other?'\n",
      " \"People who support the Endangered Species Act haven't tasted my Bald Eagle Souffle\"\n",
      " 'What do you get when you mix a rhinoceros with an elephant? Elephino...'\n",
      " \"Why don't feminists work cash registers? They can't make change.\"]\n",
      " Test Dataset ->\n",
      "[0 1 1 0 0 1 1 1 1 1]\n"
     ]
    }
   ],
   "source": [
    "train_examples, test_examples, train_labels, test_labels = train_test_split(X,Y, test_size=0.2,random_state=0)\n",
    "print(\"Training entries: {}, test entries: {}\".format(len(train_examples), len(test_examples)))\n",
    "print(\"TRAIN Dataset -> \")\n",
    "print(train_examples[:10])\n",
    "print(\" Test Dataset ->\")\n",
    "print(train_labels[:10])"
   ]
  },
  {
   "cell_type": "markdown",
   "metadata": {},
   "source": [
    "# <font color=\"green\">Build the model </font> <br>\n",
    "The neural network is created by stacking layers—this requires three main architectural decisions:\n",
    " * How to represent the text?\n",
    " * How many layers to use in the model?\n",
    " * How many *hidden units* to use for each layer? \n",
    "In this example, the input data consists of sentences. The labels to predict are either 0 or 1.\n",
    "\n",
    "One way to represent the text is to convert sentences into embeddings vectors. We can use a pre-trained text embedding as the first layer, which will have two advantages:\n",
    " *   we don't have to worry about text preprocessing,\n",
    " *   we can benefit from transfer learning.\n",
    " \n",
    "For this example we will use a model from [TensorFlow Hub] (https://www.tensorflow.org/hub) called [google/tf2-preview/gnews-swivel-20dim/1](https://tfhub.dev/google/tf2-preview/gnews-swivel-20dim/1).\n",
    "There are three other models to test for the sake of this tutorial:\n",
    " * [google/tf2-preview/gnews-swivel-20dim-with-oov/1] (https://tfhub.dev/google/tf2-preview/gnews-swivel-20dim-with-oov/1) - same as [google/tf2-preview/gnews-swivel-20dim/1] (https://tfhub.dev/google/tf2-preview/gnews-swivel-20dim/1), but with 2.5% vocabulary converted to OOV buckets. This can help if vocabulary of the task and vocabulary of the model don't fully overlap.\n",
    " * [google/tf2-preview/nnlm-en-dim50/1] (https://tfhub.dev/google/tf2-preview/nnlm-en-dim50/1) - A much larger model with ~1M vocabulary size and 50 dimensions.\n",
    " * [google/tf2-preview/nnlm-en-dim128/1] (https://tfhub.dev/google/tf2-preview/nnlm-en-dim128/1) - Even larger model with ~1M vocabulary size and 128 dimensions.\n",
    "\n",
    "Let's first create a Keras layer that uses a TensorFlow Hub model to embed the sentences, and try it out on a couple of input examples. Note that the output shape of the produced embeddings is a expected: `(num_examples, embedding_dimension)`.\n"
   ]
  },
  {
   "cell_type": "code",
   "execution_count": 5,
   "metadata": {},
   "outputs": [
    {
     "data": {
      "text/plain": [
       "<tf.Tensor: shape=(3, 20), dtype=float32, numpy=\n",
       "array([[ 0.44719145, -1.5973505 ,  0.2546199 , -0.8516619 , -1.73577   ,\n",
       "        -1.5770794 , -0.90960264,  0.50025064,  0.5210855 ,  1.5478182 ,\n",
       "        -0.6385991 ,  0.34887943, -0.34293476,  0.66420096, -2.2303002 ,\n",
       "         0.19195345,  1.8363161 , -1.4339712 , -0.3239795 , -0.42090243],\n",
       "       [-0.0108667 , -1.486056  ,  0.64470637, -0.4451046 , -1.1206563 ,\n",
       "        -0.13002694, -1.734623  ,  0.63932997,  1.1968429 ,  0.05877944,\n",
       "        -2.3390641 ,  0.802865  ,  0.84517807, -0.26993877, -0.9686946 ,\n",
       "         0.14467284,  0.5665953 , -0.72215796, -0.29738063, -0.3138543 ],\n",
       "       [ 0.16252269, -2.1696181 ,  0.41122207, -1.0587252 , -1.3136382 ,\n",
       "         0.2262041 , -2.0814402 ,  1.9685557 ,  3.32715   ,  0.5687373 ,\n",
       "        -2.5922117 ,  0.07035743,  0.8817193 , -0.22154713, -1.7557862 ,\n",
       "         0.03955548,  1.0019549 , -1.172705  , -0.90711534, -0.7019589 ]],\n",
       "      dtype=float32)>"
      ]
     },
     "execution_count": 5,
     "metadata": {},
     "output_type": "execute_result"
    }
   ],
   "source": [
    "model = \"https://tfhub.dev/google/tf2-preview/gnews-swivel-20dim/1\"\n",
    "hub_layer = hub.KerasLayer(model, output_shape=[20], input_shape=[], \n",
    "                           dtype=tf.string, trainable=True)\n",
    "hub_layer(train_examples[:3])"
   ]
  },
  {
   "cell_type": "markdown",
   "metadata": {},
   "source": [
    "<font color=\"green\">Let's now build the full model: </font>"
   ]
  },
  {
   "cell_type": "code",
   "execution_count": 6,
   "metadata": {},
   "outputs": [
    {
     "name": "stdout",
     "output_type": "stream",
     "text": [
      "Model: \"sequential\"\n",
      "_________________________________________________________________\n",
      "Layer (type)                 Output Shape              Param #   \n",
      "=================================================================\n",
      "keras_layer (KerasLayer)     (None, 20)                400020    \n",
      "_________________________________________________________________\n",
      "dense (Dense)                (None, 16)                336       \n",
      "_________________________________________________________________\n",
      "dense_1 (Dense)              (None, 1)                 17        \n",
      "=================================================================\n",
      "Total params: 400,373\n",
      "Trainable params: 400,373\n",
      "Non-trainable params: 0\n",
      "_________________________________________________________________\n"
     ]
    }
   ],
   "source": [
    "model = tf.keras.Sequential()\n",
    "model.add(hub_layer)\n",
    "model.add(tf.keras.layers.Dense(16, activation='relu'))\n",
    "model.add(tf.keras.layers.Dense(1))\n",
    "model.summary()"
   ]
  },
  {
   "cell_type": "markdown",
   "metadata": {},
   "source": [
    "<font color=\"green\"> The layers are stacked sequentially to build the classifier: </font> <br>\n",
    " \n",
    " 1. The first layer is a TensorFlow Hub layer. This layer uses a pre-trained Saved Model to map a sentence into its embedding vector. The model that we are using ([google/tf2-preview/gnews-swivel-20dim/1](https://tfhub.dev/google/tf2-preview/gnews-swivel-20dim/1)) splits the sentence into tokens, embeds each token and then combines the embedding. The resulting dimensions are: `(num_examples, embedding_dimension)`.\n",
    " 2. This fixed-length output vector is piped through a fully-connected (`Dense`) layer with 16 hidden units.\n",
    " 3. The last layer is densely connected with a single output node. This outputs logits: the log-odds of the true class, according to the model.\n",
    "\n",
    "<font color=\"green\"> Hidden units </font> <br>\n",
    " \n",
    "The above model has two intermediate or \"hidden\" layers, between the input and output. \n",
    "The number of outputs (units, nodes, or neurons) is the dimension of the representational space for the layer. In other words, the amount of freedom the network is allowed when learning an internal representation.\n",
    " \n",
    "If a model has more hidden units (a higher-dimensional representation space), and/or more layers, then the network can learn more complex representations. However, it makes the network more computationally expensive and may lead to learning unwanted patterns—patterns that improve performance on training data but not on the test data. This is called *overfitting*, and we'll explore it later.\n",
    "\n",
    "<font color=\"green\">Loss function and optimizer </font> <br>\n",
    " \n",
    "A model needs a loss function and an optimizer for training. Since this is a binary classification problem and the model outputs a probability (a single-unit layer with a sigmoid activation), we'll use the `binary_crossentropy` loss function. \n",
    " \n",
    "This isn't the only choice for a loss function, you could, for instance, choose `mean_squared_error`. But, generally, `binary_crossentropy` is better for dealing with probabilities—it measures the \"distance\" between probability distributions, or in our case, between the ground-truth distribution and the predictions.\n",
    " \n",
    "Later, when we are exploring regression problems (say, to predict the price of a house), we will see how to use another loss function called mean squared error.\n",
    " \n",
    "<font color=\"green\">Now, configure the model to use an optimizer and a loss function: </font>"
   ]
  },
  {
   "cell_type": "code",
   "execution_count": 7,
   "metadata": {},
   "outputs": [],
   "source": [
    "model.compile(optimizer='adam',\n",
    "              loss=tf.losses.BinaryCrossentropy(from_logits=True),\n",
    "              metrics=[tf.metrics.BinaryAccuracy(threshold=0.0, name='accuracy')])\n"
   ]
  },
  {
   "cell_type": "markdown",
   "metadata": {},
   "source": [
    "<font color=\"green\">Create a validation set </font>\n",
    "\n",
    "When training, we want to check the accuracy of the model on data it hasn't seen before. <br>\n",
    "Create a *validation set* by setting apart 10,000 examples from the original training data. <br> \n",
    "(Why not use the testing set now? Our goal is to develop and tune our model using only the training data, then use the test data just once to evaluate our accuracy)."
   ]
  },
  {
   "cell_type": "code",
   "execution_count": 8,
   "metadata": {},
   "outputs": [
    {
     "data": {
      "text/plain": [
       "3900"
      ]
     },
     "execution_count": 8,
     "metadata": {},
     "output_type": "execute_result"
    }
   ],
   "source": [
    "len(train_examples)\n",
    "x_val = train_examples[:2500]\n",
    "partial_x_train = train_examples[2500:]\n",
    "\n",
    "y_val = train_labels[:2500]\n",
    "partial_y_train = train_labels[2500:]\n",
    "len(partial_x_train)"
   ]
  },
  {
   "cell_type": "markdown",
   "metadata": {},
   "source": [
    "<font color=\"green\">Train the model </font> <br>\n",
    "Train the model for 40 epochs in mini-batches of 512 samples. This is 40 iterations over all samples in the `x_train` and `y_train` tensors. While training, monitor the model's loss and accuracy on the 10,000 samples from the validation set:"
   ]
  },
  {
   "cell_type": "code",
   "execution_count": 9,
   "metadata": {},
   "outputs": [
    {
     "name": "stdout",
     "output_type": "stream",
     "text": [
      "Epoch 1/40\n",
      "8/8 [==============================] - 0s 28ms/step - loss: 0.8841 - accuracy: 0.3833 - val_loss: 0.7950 - val_accuracy: 0.4104\n",
      "Epoch 2/40\n",
      "8/8 [==============================] - 0s 12ms/step - loss: 0.7461 - accuracy: 0.4856 - val_loss: 0.7091 - val_accuracy: 0.5444\n",
      "Epoch 3/40\n",
      "8/8 [==============================] - 0s 11ms/step - loss: 0.6817 - accuracy: 0.5849 - val_loss: 0.6757 - val_accuracy: 0.6096\n",
      "Epoch 4/40\n",
      "8/8 [==============================] - 0s 12ms/step - loss: 0.6525 - accuracy: 0.6277 - val_loss: 0.6589 - val_accuracy: 0.6308\n",
      "Epoch 5/40\n",
      "8/8 [==============================] - 0s 12ms/step - loss: 0.6322 - accuracy: 0.6413 - val_loss: 0.6426 - val_accuracy: 0.6408\n",
      "Epoch 6/40\n",
      "8/8 [==============================] - 0s 12ms/step - loss: 0.6113 - accuracy: 0.6562 - val_loss: 0.6262 - val_accuracy: 0.6480\n",
      "Epoch 7/40\n",
      "8/8 [==============================] - 0s 10ms/step - loss: 0.5916 - accuracy: 0.6687 - val_loss: 0.6112 - val_accuracy: 0.6592\n",
      "Epoch 8/40\n",
      "8/8 [==============================] - 0s 12ms/step - loss: 0.5736 - accuracy: 0.6833 - val_loss: 0.5975 - val_accuracy: 0.6712\n",
      "Epoch 9/40\n",
      "8/8 [==============================] - 0s 12ms/step - loss: 0.5570 - accuracy: 0.6985 - val_loss: 0.5848 - val_accuracy: 0.6868\n",
      "Epoch 10/40\n",
      "8/8 [==============================] - 0s 11ms/step - loss: 0.5411 - accuracy: 0.7141 - val_loss: 0.5727 - val_accuracy: 0.6976\n",
      "Epoch 11/40\n",
      "8/8 [==============================] - 0s 12ms/step - loss: 0.5263 - accuracy: 0.7315 - val_loss: 0.5613 - val_accuracy: 0.7108\n",
      "Epoch 12/40\n",
      "8/8 [==============================] - 0s 11ms/step - loss: 0.5118 - accuracy: 0.7446 - val_loss: 0.5504 - val_accuracy: 0.7248\n",
      "Epoch 13/40\n",
      "8/8 [==============================] - ETA: 0s - loss: 0.4977 - accuracy: 0.75 - 0s 11ms/step - loss: 0.4977 - accuracy: 0.7590 - val_loss: 0.5401 - val_accuracy: 0.7380\n",
      "Epoch 14/40\n",
      "8/8 [==============================] - 0s 11ms/step - loss: 0.4841 - accuracy: 0.7708 - val_loss: 0.5298 - val_accuracy: 0.7460\n",
      "Epoch 15/40\n",
      "8/8 [==============================] - 0s 11ms/step - loss: 0.4704 - accuracy: 0.7846 - val_loss: 0.5198 - val_accuracy: 0.7568\n",
      "Epoch 16/40\n",
      "8/8 [==============================] - 0s 11ms/step - loss: 0.4567 - accuracy: 0.7928 - val_loss: 0.5099 - val_accuracy: 0.7620\n",
      "Epoch 17/40\n",
      "8/8 [==============================] - 0s 12ms/step - loss: 0.4427 - accuracy: 0.8033 - val_loss: 0.5000 - val_accuracy: 0.7700\n",
      "Epoch 18/40\n",
      "8/8 [==============================] - 0s 11ms/step - loss: 0.4285 - accuracy: 0.8095 - val_loss: 0.4905 - val_accuracy: 0.7764\n",
      "Epoch 19/40\n",
      "8/8 [==============================] - 0s 12ms/step - loss: 0.4144 - accuracy: 0.8179 - val_loss: 0.4810 - val_accuracy: 0.7840\n",
      "Epoch 20/40\n",
      "8/8 [==============================] - 0s 11ms/step - loss: 0.4002 - accuracy: 0.8277 - val_loss: 0.4716 - val_accuracy: 0.7920\n",
      "Epoch 21/40\n",
      "8/8 [==============================] - 0s 11ms/step - loss: 0.3862 - accuracy: 0.8359 - val_loss: 0.4623 - val_accuracy: 0.7940\n",
      "Epoch 22/40\n",
      "8/8 [==============================] - 0s 12ms/step - loss: 0.3724 - accuracy: 0.8426 - val_loss: 0.4537 - val_accuracy: 0.7984\n",
      "Epoch 23/40\n",
      "8/8 [==============================] - 0s 12ms/step - loss: 0.3586 - accuracy: 0.8497 - val_loss: 0.4451 - val_accuracy: 0.8028\n",
      "Epoch 24/40\n",
      "8/8 [==============================] - 0s 11ms/step - loss: 0.3450 - accuracy: 0.8551 - val_loss: 0.4368 - val_accuracy: 0.8072\n",
      "Epoch 25/40\n",
      "8/8 [==============================] - 0s 12ms/step - loss: 0.3315 - accuracy: 0.8651 - val_loss: 0.4291 - val_accuracy: 0.8112\n",
      "Epoch 26/40\n",
      "8/8 [==============================] - 0s 12ms/step - loss: 0.3185 - accuracy: 0.8705 - val_loss: 0.4217 - val_accuracy: 0.8140\n",
      "Epoch 27/40\n",
      "8/8 [==============================] - 0s 11ms/step - loss: 0.3054 - accuracy: 0.8777 - val_loss: 0.4148 - val_accuracy: 0.8164\n",
      "Epoch 28/40\n",
      "8/8 [==============================] - 0s 13ms/step - loss: 0.2928 - accuracy: 0.8849 - val_loss: 0.4082 - val_accuracy: 0.8180\n",
      "Epoch 29/40\n",
      "8/8 [==============================] - 0s 12ms/step - loss: 0.2805 - accuracy: 0.8936 - val_loss: 0.4022 - val_accuracy: 0.8208\n",
      "Epoch 30/40\n",
      "8/8 [==============================] - 0s 13ms/step - loss: 0.2685 - accuracy: 0.8985 - val_loss: 0.3970 - val_accuracy: 0.8204\n",
      "Epoch 31/40\n",
      "8/8 [==============================] - 0s 12ms/step - loss: 0.2566 - accuracy: 0.9051 - val_loss: 0.3914 - val_accuracy: 0.8200\n",
      "Epoch 32/40\n",
      "8/8 [==============================] - 0s 12ms/step - loss: 0.2453 - accuracy: 0.9092 - val_loss: 0.3870 - val_accuracy: 0.8216\n",
      "Epoch 33/40\n",
      "8/8 [==============================] - 0s 11ms/step - loss: 0.2342 - accuracy: 0.9156 - val_loss: 0.3830 - val_accuracy: 0.8248\n",
      "Epoch 34/40\n",
      "8/8 [==============================] - 0s 12ms/step - loss: 0.2235 - accuracy: 0.9200 - val_loss: 0.3792 - val_accuracy: 0.8288\n",
      "Epoch 35/40\n",
      "8/8 [==============================] - 0s 12ms/step - loss: 0.2133 - accuracy: 0.9241 - val_loss: 0.3755 - val_accuracy: 0.8316\n",
      "Epoch 36/40\n",
      "8/8 [==============================] - 0s 12ms/step - loss: 0.2033 - accuracy: 0.9292 - val_loss: 0.3730 - val_accuracy: 0.8336\n",
      "Epoch 37/40\n",
      "8/8 [==============================] - 0s 12ms/step - loss: 0.1938 - accuracy: 0.9336 - val_loss: 0.3708 - val_accuracy: 0.8348\n",
      "Epoch 38/40\n",
      "8/8 [==============================] - 0s 12ms/step - loss: 0.1844 - accuracy: 0.9390 - val_loss: 0.3681 - val_accuracy: 0.8348\n",
      "Epoch 39/40\n",
      "8/8 [==============================] - 0s 12ms/step - loss: 0.1757 - accuracy: 0.9451 - val_loss: 0.3668 - val_accuracy: 0.8368\n",
      "Epoch 40/40\n",
      "8/8 [==============================] - 0s 12ms/step - loss: 0.1674 - accuracy: 0.9474 - val_loss: 0.3658 - val_accuracy: 0.8376\n"
     ]
    }
   ],
   "source": [
    "history = model.fit(partial_x_train,\n",
    "                    partial_y_train,\n",
    "                    epochs=40,\n",
    "                    batch_size=512,\n",
    "                    validation_data=(x_val, y_val),\n",
    "                    verbose=1)"
   ]
  },
  {
   "cell_type": "markdown",
   "metadata": {},
   "source": [
    "<font color=\"green\"> Evaluate the model </font> <br>\n",
    "And let's see how the model performs. Two values will be returned. <br>\n",
    "-> Loss (a number which represents our error, lower values are better), and <br>\n",
    "-> accuracy."
   ]
  },
  {
   "cell_type": "code",
   "execution_count": 13,
   "metadata": {},
   "outputs": [
    {
     "name": "stdout",
     "output_type": "stream",
     "text": [
      "50/50 [==============================] - 0s 2ms/step - loss: 0.3549 - accuracy: 0.8438\n",
      "length of y_pred 8000\n",
      "[[1]\n",
      " [1]\n",
      " [1]\n",
      " ...\n",
      " [1]\n",
      " [1]\n",
      " [0]]\n",
      "*******CODALAB************ [0.3549339175224304, 0.84375]\n"
     ]
    }
   ],
   "source": [
    "y_pred = model.predict_classes(X)\n",
    "results = model.evaluate(test_examples, test_labels)\n",
    "print(\"length of y_pred\", len(y_pred))\n",
    "print(y_pred)\n",
    "print(\"*******CODALAB************\",results)"
   ]
  },
  {
   "cell_type": "markdown",
   "metadata": {},
   "source": [
    "\n",
    "This fairly naive approach achieves an accuracy of about 85%. With more advanced approaches, the model should get closer to 95%.<br>\n",
    "\n",
    "Create a graph of accuracy and loss over time<br>\n",
    "`model.fit()` returns a `History` object that contains a dictionary with everything that happened during training:"
   ]
  },
  {
   "cell_type": "code",
   "execution_count": 11,
   "metadata": {},
   "outputs": [
    {
     "data": {
      "text/plain": [
       "dict_keys(['loss', 'accuracy', 'val_loss', 'val_accuracy'])"
      ]
     },
     "execution_count": 11,
     "metadata": {},
     "output_type": "execute_result"
    }
   ],
   "source": [
    "history_dict = history.history\n",
    "history_dict.keys()"
   ]
  },
  {
   "cell_type": "markdown",
   "metadata": {},
   "source": [
    "\n",
    "There are four entries: one for each monitored metric during training and validation. We can use these to plot the training and validation loss for comparison, as well as the training and validation accuracy:"
   ]
  },
  {
   "cell_type": "code",
   "execution_count": 17,
   "metadata": {},
   "outputs": [],
   "source": [
    "acc = history_dict['accuracy']\n",
    "val_acc = history_dict['val_accuracy']\n",
    "loss = history_dict['loss']\n",
    "val_loss = history_dict['val_loss']\n",
    "\n",
    "epochs = range(1, len(acc) + 1)"
   ]
  },
  {
   "cell_type": "code",
   "execution_count": 18,
   "metadata": {},
   "outputs": [
    {
     "data": {
      "image/png": "[encoded data removed]",
      "text/plain": [
       "<Figure size 432x288 with 1 Axes>"
      ]
     },
     "metadata": {
      "needs_background": "light"
     },
     "output_type": "display_data"
    }
   ],
   "source": [
    "# \"bo\" is for \"blue dot\"\n",
    "plt.plot(epochs, loss, 'bo', label='Training loss')\n",
    "# b is for \"solid blue line\"\n",
    "plt.plot(epochs, val_loss, 'b', label='Validation loss')\n",
    "plt.title('Training and validation loss')\n",
    "plt.xlabel('Epochs')\n",
    "plt.ylabel('Loss')\n",
    "plt.legend()\n",
    "\n",
    "plt.show()"
   ]
  },
  {
   "cell_type": "code",
   "execution_count": 19,
   "metadata": {},
   "outputs": [
    {
     "data": {
      "image/png": "[encoded data removed]",
      "text/plain": [
       "<Figure size 432x288 with 1 Axes>"
      ]
     },
     "metadata": {
      "needs_background": "light"
     },
     "output_type": "display_data"
    }
   ],
   "source": [
    "plt.clf()   # clear figure\n",
    "\n",
    "plt.plot(epochs, acc, 'bo', label='Training acc')\n",
    "plt.plot(epochs, val_acc, 'b', label='Validation acc')\n",
    "plt.title('Training and validation accuracy')\n",
    "plt.xlabel('Epochs')\n",
    "plt.ylabel('Accuracy')\n",
    "plt.legend()\n",
    "\n",
    "plt.show()"
   ]
  },
  {
   "cell_type": "markdown",
   "metadata": {},
   "source": [
    "\n",
    "In this plot, the dots represent the training loss and accuracy, and the solid lines are the validation loss and accuracy.\n",
    "\n",
    "Notice the training loss *decreases* with each epoch and the training accuracy *increases* with each epoch. This is expected when using a gradient descent optimization—it should minimize the desired quantity on every iteration.\n",
    "\n",
    "This isn't the case for the validation loss and accuracy—they seem to peak after about twenty epochs. This is an example of overfitting: the model performs better on the training data than it does on data it has never seen before. After this point, the model over-optimizes and learns representations *specific* to the training data that do not *generalize* to test data.\n",
    "\n",
    "For this particular case, we could prevent overfitting by simply stopping the training after twenty or so epochs. Later, you'll see how to do this automatically with a callback."
   ]
  },
  {
   "cell_type": "code",
   "execution_count": 26,
   "metadata": {},
   "outputs": [],
   "source": [
    "codalab_data = pd.read_csv('train.csv')"
   ]
  },
  {
   "cell_type": "code",
   "execution_count": 26,
   "metadata": {},
   "outputs": [
    {
     "name": "stdout",
     "output_type": "stream",
     "text": [
      "id                  0\n",
      "text                0\n",
      "is_humor_all        0\n",
      "funniness_all       0\n",
      "funniness_female    0\n",
      "funniness_male      0\n",
      "funniness_18_25     0\n",
      "funniness_26_40     0\n",
      "funniness_41_55     0\n",
      "funniness_56_70     0\n",
      "is_off_all          0\n",
      "offense_all         0\n",
      "is_off_female       0\n",
      "offense_female      0\n",
      "is_off_male         0\n",
      "offense_male        0\n",
      "is_off_18_25        0\n",
      "offense_18_25       0\n",
      "is_off_26_40        0\n",
      "offense_26_40       0\n",
      "is_off_41_55        0\n",
      "offense_41_55       0\n",
      "is_off_56_70        0\n",
      "offense_56_70       0\n",
      "dtype: int64\n"
     ]
    }
   ],
   "source": [
    "# MOST FREQUESNT\n",
    "from sklearn.impute import SimpleImputer \n",
    "constant_imputer=SimpleImputer(strategy='most_frequent')\n",
    "codalab_data.iloc[:,:]=constant_imputer.fit_transform(codalab_data)\n",
    "#x_array = np.array(codalab_data['funniness_all'])\n",
    "#normalized_X = preprocessing.normalize([x_array])\n",
    "print(codalab_data.isnull().sum())"
   ]
  },
  {
   "cell_type": "code",
   "execution_count": 27,
   "metadata": {},
   "outputs": [
    {
     "name": "stdout",
     "output_type": "stream",
     "text": [
      "id                   0\n",
      "text                 0\n",
      "is_humor             0\n",
      "humor_rating         0\n",
      "humor_controversy    0\n",
      "offense_rating       0\n",
      "dtype: int64\n"
     ]
    }
   ],
   "source": [
    "# COnstant, have used this\n",
    "from sklearn.impute import SimpleImputer \n",
    "constant_imputer=SimpleImputer(strategy='constant', fill_value=0)\n",
    "codalab_data.iloc[:,:]=constant_imputer.fit_transform(codalab_data)\n",
    "#x_array = np.array(codalab_data['funniness_all'])\n",
    "#normalized_X = preprocessing.normalize([x_array])\n",
    "print(codalab_data.isnull().sum())"
   ]
  },
  {
   "cell_type": "code",
   "execution_count": 24,
   "metadata": {},
   "outputs": [
    {
     "name": "stdout",
     "output_type": "stream",
     "text": [
      "Selected features: ['humor_rating', 'humor_controversy']\n",
      "   humor_rating  humor_controversy\n",
      "0          2.42                1.0\n",
      "1          2.50                1.0\n",
      "2          1.95                0.0\n",
      "3          2.11                1.0\n",
      "4          2.78                0.0\n"
     ]
    },
    {
     "name": "stderr",
     "output_type": "stream",
     "text": [
      "/Users/punitmashruwala/opt/anaconda3/lib/python3.8/site-packages/sklearn/utils/validation.py:68: FutureWarning: Pass n_features_to_select=8 as keyword args. From version 0.25 passing these as positional arguments will result in an error\n",
      "  warnings.warn(\"Pass {} as keyword args. From version 0.25 \"\n",
      "/Users/punitmashruwala/opt/anaconda3/lib/python3.8/site-packages/sklearn/utils/validation.py:73: DataConversionWarning: A column-vector y was passed when a 1d array was expected. Please change the shape of y to (n_samples, ), for example using ravel().\n",
      "  return f(**kwargs)\n"
     ]
    }
   ],
   "source": [
    "# ignored this\n",
    "from sklearn.linear_model import LogisticRegression\n",
    "from sklearn.feature_selection import RFE\n",
    "\n",
    "cols = ['humor_rating', 'humor_controversy'] \n",
    "new_cols = ['is_humor']\n",
    "X = codalab_data[cols]\n",
    "y = codalab_data[new_cols]\n",
    "# Build a logreg and compute the feature importances\n",
    "model = LogisticRegression()\n",
    "# create the RFE model and select 8 attributes\n",
    "rfe = RFE(model, 8)\n",
    "rfe = rfe.fit(X, y)\n",
    "# summarize the selection of the attributes\n",
    "print('Selected features: %s' % list(X.columns[rfe.support_]))\n",
    "X=codalab_data[X.columns[rfe.support_]]\n",
    "print(X.head())"
   ]
  },
  {
   "cell_type": "code",
   "execution_count": 28,
   "metadata": {},
   "outputs": [
    {
     "name": "stdout",
     "output_type": "stream",
     "text": [
      "Training entries: 5760, test entries: 640\n",
      "TRAIN Dataset -> \n",
      "      humor_rating  humor_controversy\n",
      "7762          3.30                0.0\n",
      "2713          0.00                0.0\n",
      "4721          2.95                1.0\n",
      "3785          0.00                0.0\n",
      "3219          0.00                0.0\n",
      "3434          2.60                1.0\n",
      "7503          2.00                0.0\n",
      "1796          2.95                0.0\n",
      "2363          1.78                1.0\n",
      "4516          1.79                1.0\n",
      " Test Dataset ->\n",
      "      is_humor\n",
      "7762         1\n",
      "2713         0\n",
      "4721         1\n",
      "3785         0\n",
      "3219         0\n",
      "3434         1\n",
      "7503         1\n",
      "1796         1\n",
      "2363         1\n",
      "4516         1\n",
      "4219         1\n",
      "990          1\n",
      "6866         1\n",
      "561          0\n",
      "1820         1\n",
      "923          0\n",
      "2849         0\n",
      "6083         1\n",
      "2964         1\n",
      "3843         0\n"
     ]
    }
   ],
   "source": [
    "cols = ['humor_rating', 'humor_controversy'] \n",
    "new_cols = ['is_humor']\n",
    "X = codalab_data[cols]\n",
    "y = codalab_data[new_cols]\n",
    "X_temp,X_test,y_temp,y_test=train_test_split(X,y,test_size=0.2,random_state=1111)\n",
    "train_examples, test_examples, train_labels, test_labels = train_test_split(X_temp,y_temp, test_size=0.1,random_state=0)\n",
    "print(\"Training entries: {}, test entries: {}\".format(len(train_examples), len(test_examples)))\n",
    "print(\"TRAIN Dataset -> \")\n",
    "print(train_examples[:10])\n",
    "print(\" Test Dataset ->\")\n",
    "print(train_labels[:20])"
   ]
  },
  {
   "cell_type": "code",
   "execution_count": 30,
   "metadata": {},
   "outputs": [
    {
     "name": "stderr",
     "output_type": "stream",
     "text": [
      "/Users/punitmashruwala/opt/anaconda3/lib/python3.8/site-packages/sklearn/utils/validation.py:73: DataConversionWarning: A column-vector y was passed when a 1d array was expected. Please change the shape of y to (n_samples, ), for example using ravel().\n",
      "  return f(**kwargs)\n",
      "/Users/punitmashruwala/opt/anaconda3/lib/python3.8/site-packages/sklearn/utils/validation.py:73: DataConversionWarning: A column-vector y was passed when a 1d array was expected. Please change the shape of y to (n_samples, ), for example using ravel().\n",
      "  return f(**kwargs)\n",
      "/Users/punitmashruwala/opt/anaconda3/lib/python3.8/site-packages/sklearn/utils/validation.py:73: DataConversionWarning: A column-vector y was passed when a 1d array was expected. Please change the shape of y to (n_samples, ), for example using ravel().\n",
      "  return f(**kwargs)\n",
      "/Users/punitmashruwala/opt/anaconda3/lib/python3.8/site-packages/sklearn/utils/validation.py:73: DataConversionWarning: A column-vector y was passed when a 1d array was expected. Please change the shape of y to (n_samples, ), for example using ravel().\n",
      "  return f(**kwargs)\n",
      "/Users/punitmashruwala/opt/anaconda3/lib/python3.8/site-packages/sklearn/utils/validation.py:73: DataConversionWarning: A column-vector y was passed when a 1d array was expected. Please change the shape of y to (n_samples, ), for example using ravel().\n",
      "  return f(**kwargs)\n",
      "/Users/punitmashruwala/opt/anaconda3/lib/python3.8/site-packages/sklearn/utils/validation.py:73: DataConversionWarning: A column-vector y was passed when a 1d array was expected. Please change the shape of y to (n_samples, ), for example using ravel().\n",
      "  return f(**kwargs)\n",
      "/Users/punitmashruwala/opt/anaconda3/lib/python3.8/site-packages/sklearn/utils/validation.py:73: DataConversionWarning: A column-vector y was passed when a 1d array was expected. Please change the shape of y to (n_samples, ), for example using ravel().\n",
      "  return f(**kwargs)\n",
      "/Users/punitmashruwala/opt/anaconda3/lib/python3.8/site-packages/sklearn/utils/validation.py:73: DataConversionWarning: A column-vector y was passed when a 1d array was expected. Please change the shape of y to (n_samples, ), for example using ravel().\n",
      "  return f(**kwargs)\n",
      "/Users/punitmashruwala/opt/anaconda3/lib/python3.8/site-packages/sklearn/utils/validation.py:73: DataConversionWarning: A column-vector y was passed when a 1d array was expected. Please change the shape of y to (n_samples, ), for example using ravel().\n",
      "  return f(**kwargs)\n",
      "/Users/punitmashruwala/opt/anaconda3/lib/python3.8/site-packages/sklearn/utils/validation.py:73: DataConversionWarning: A column-vector y was passed when a 1d array was expected. Please change the shape of y to (n_samples, ), for example using ravel().\n",
      "  return f(**kwargs)\n",
      "/Users/punitmashruwala/opt/anaconda3/lib/python3.8/site-packages/sklearn/utils/validation.py:73: DataConversionWarning: A column-vector y was passed when a 1d array was expected. Please change the shape of y to (n_samples, ), for example using ravel().\n",
      "  return f(**kwargs)\n",
      "/Users/punitmashruwala/opt/anaconda3/lib/python3.8/site-packages/sklearn/utils/validation.py:73: DataConversionWarning: A column-vector y was passed when a 1d array was expected. Please change the shape of y to (n_samples, ), for example using ravel().\n",
      "  return f(**kwargs)\n",
      "/Users/punitmashruwala/opt/anaconda3/lib/python3.8/site-packages/sklearn/utils/validation.py:73: DataConversionWarning: A column-vector y was passed when a 1d array was expected. Please change the shape of y to (n_samples, ), for example using ravel().\n",
      "  return f(**kwargs)\n",
      "/Users/punitmashruwala/opt/anaconda3/lib/python3.8/site-packages/sklearn/utils/validation.py:73: DataConversionWarning: A column-vector y was passed when a 1d array was expected. Please change the shape of y to (n_samples, ), for example using ravel().\n",
      "  return f(**kwargs)\n",
      "/Users/punitmashruwala/opt/anaconda3/lib/python3.8/site-packages/sklearn/utils/validation.py:73: DataConversionWarning: A column-vector y was passed when a 1d array was expected. Please change the shape of y to (n_samples, ), for example using ravel().\n",
      "  return f(**kwargs)\n",
      "/Users/punitmashruwala/opt/anaconda3/lib/python3.8/site-packages/sklearn/utils/validation.py:73: DataConversionWarning: A column-vector y was passed when a 1d array was expected. Please change the shape of y to (n_samples, ), for example using ravel().\n",
      "  return f(**kwargs)\n",
      "/Users/punitmashruwala/opt/anaconda3/lib/python3.8/site-packages/sklearn/utils/validation.py:73: DataConversionWarning: A column-vector y was passed when a 1d array was expected. Please change the shape of y to (n_samples, ), for example using ravel().\n",
      "  return f(**kwargs)\n",
      "/Users/punitmashruwala/opt/anaconda3/lib/python3.8/site-packages/sklearn/utils/validation.py:73: DataConversionWarning: A column-vector y was passed when a 1d array was expected. Please change the shape of y to (n_samples, ), for example using ravel().\n",
      "  return f(**kwargs)\n",
      "/Users/punitmashruwala/opt/anaconda3/lib/python3.8/site-packages/sklearn/utils/validation.py:73: DataConversionWarning: A column-vector y was passed when a 1d array was expected. Please change the shape of y to (n_samples, ), for example using ravel().\n",
      "  return f(**kwargs)\n",
      "/Users/punitmashruwala/opt/anaconda3/lib/python3.8/site-packages/sklearn/utils/validation.py:73: DataConversionWarning: A column-vector y was passed when a 1d array was expected. Please change the shape of y to (n_samples, ), for example using ravel().\n",
      "  return f(**kwargs)\n",
      "/Users/punitmashruwala/opt/anaconda3/lib/python3.8/site-packages/sklearn/utils/validation.py:73: DataConversionWarning: A column-vector y was passed when a 1d array was expected. Please change the shape of y to (n_samples, ), for example using ravel().\n",
      "  return f(**kwargs)\n",
      "/Users/punitmashruwala/opt/anaconda3/lib/python3.8/site-packages/sklearn/utils/validation.py:73: DataConversionWarning: A column-vector y was passed when a 1d array was expected. Please change the shape of y to (n_samples, ), for example using ravel().\n",
      "  return f(**kwargs)\n",
      "/Users/punitmashruwala/opt/anaconda3/lib/python3.8/site-packages/sklearn/utils/validation.py:73: DataConversionWarning: A column-vector y was passed when a 1d array was expected. Please change the shape of y to (n_samples, ), for example using ravel().\n",
      "  return f(**kwargs)\n",
      "/Users/punitmashruwala/opt/anaconda3/lib/python3.8/site-packages/sklearn/utils/validation.py:73: DataConversionWarning: A column-vector y was passed when a 1d array was expected. Please change the shape of y to (n_samples, ), for example using ravel().\n",
      "  return f(**kwargs)\n",
      "/Users/punitmashruwala/opt/anaconda3/lib/python3.8/site-packages/sklearn/utils/validation.py:73: DataConversionWarning: A column-vector y was passed when a 1d array was expected. Please change the shape of y to (n_samples, ), for example using ravel().\n",
      "  return f(**kwargs)\n",
      "/Users/punitmashruwala/opt/anaconda3/lib/python3.8/site-packages/sklearn/utils/validation.py:73: DataConversionWarning: A column-vector y was passed when a 1d array was expected. Please change the shape of y to (n_samples, ), for example using ravel().\n",
      "  return f(**kwargs)\n",
      "/Users/punitmashruwala/opt/anaconda3/lib/python3.8/site-packages/sklearn/utils/validation.py:73: DataConversionWarning: A column-vector y was passed when a 1d array was expected. Please change the shape of y to (n_samples, ), for example using ravel().\n",
      "  return f(**kwargs)\n",
      "/Users/punitmashruwala/opt/anaconda3/lib/python3.8/site-packages/sklearn/utils/validation.py:73: DataConversionWarning: A column-vector y was passed when a 1d array was expected. Please change the shape of y to (n_samples, ), for example using ravel().\n",
      "  return f(**kwargs)\n"
     ]
    },
    {
     "name": "stdout",
     "output_type": "stream",
     "text": [
      "K-fold cross-validation results:\n",
      "[0.9975  0.995   0.99875 1.      1.      0.99625 0.99625 1.      0.9975\n",
      " 0.9975 ]\n",
      "LogisticRegression average accuracy is 0.998\n",
      "LogisticRegression average log_loss is 0.009\n",
      "LogisticRegression average auc is 1.000\n"
     ]
    },
    {
     "name": "stderr",
     "output_type": "stream",
     "text": [
      "/Users/punitmashruwala/opt/anaconda3/lib/python3.8/site-packages/sklearn/utils/validation.py:73: DataConversionWarning: A column-vector y was passed when a 1d array was expected. Please change the shape of y to (n_samples, ), for example using ravel().\n",
      "  return f(**kwargs)\n",
      "/Users/punitmashruwala/opt/anaconda3/lib/python3.8/site-packages/sklearn/utils/validation.py:73: DataConversionWarning: A column-vector y was passed when a 1d array was expected. Please change the shape of y to (n_samples, ), for example using ravel().\n",
      "  return f(**kwargs)\n"
     ]
    }
   ],
   "source": [
    "#Used most_frequent strategy\n",
    "from sklearn.model_selection import cross_val_score\n",
    "logreg = LogisticRegression(random_state=101)\n",
    "# Use cross_val_score function\n",
    "# We are passing the entirety of X and y, not X_train or y_train, it takes care of splitting the data\n",
    "# cv=10 for 10 folds\n",
    "# scoring = {'accuracy', 'neg_log_loss', 'roc_auc'} for evaluation metric - althought they are many\n",
    "scores_accuracy = cross_val_score(logreg, X, y, cv=10, scoring='accuracy')\n",
    "scores_log_loss = cross_val_score(logreg, X, y, cv=10, scoring='neg_log_loss')\n",
    "scores_auc = cross_val_score(logreg, X, y, cv=10, scoring='roc_auc')\n",
    "print('K-fold cross-validation results:')\n",
    "print(scores_accuracy)\n",
    "print(logreg.__class__.__name__+\" average accuracy is %2.3f\" % scores_accuracy.mean())\n",
    "print(logreg.__class__.__name__+\" average log_loss is %2.3f\" % -scores_log_loss.mean())\n",
    "print(logreg.__class__.__name__+\" average auc is %2.3f\" % scores_auc.mean())"
   ]
  },
  {
   "cell_type": "code",
   "execution_count": null,
   "metadata": {},
   "outputs": [],
   "source": [
    "#have not run this one\n",
    "from sklearn.model_selection import KFold\n",
    "from sklearn.model_selection import cross_val_score\n",
    "from sklearn.linear_model import LogisticRegression\n",
    "from sklearn.metrics import mean_squared_error\n",
    "from sklearn.ensemble import RandomForestRegressor\n",
    "from sklearn.pipeline import make_pipeline\n",
    "from sklearn.preprocessing import StandardScaler\n",
    "\n",
    "X = codalab_data.iloc[:, 3:23].values\n",
    "Y = codalab_data.iloc[:,2].values\n",
    "label_encoder_Y = LabelEncoder()\n",
    "Y = label_encoder_Y.fit_transform(Y)\n",
    "\n",
    "kfold = KFold(n_splits=10, random_state=105,shuffle=True)\n",
    "model = LogisticRegression()\n",
    "results = cross_val_score(model, X, Y, cv=kfold,scoring='accuracy')\n",
    "print(\"Accuracy in each split:\",results)\n",
    "print(\"Accuracy:\", results.mean())\n",
    "print(\"Accuracy: %.3f%% (%.3f%%)\" % (results.mean()*100.0, results.std()*100.0))"
   ]
  },
  {
   "cell_type": "code",
   "execution_count": 33,
   "metadata": {},
   "outputs": [
    {
     "name": "stdout",
     "output_type": "stream",
     "text": [
      "54 6\n",
      "54 6\n",
      "54 6\n",
      "54 6\n",
      "54 6\n",
      "54 6\n",
      "54 6\n",
      "54 6\n",
      "54 6\n",
      "54 6\n"
     ]
    }
   ],
   "source": [
    "# have not executed this one\n",
    "\n",
    "from sklearn.model_selection import KFold\n",
    "from sklearn.model_selection import cross_val_score\n",
    "from sklearn.linear_model import LogisticRegression\n",
    "from sklearn.metrics import mean_squared_error\n",
    "from sklearn.ensemble import RandomForestRegressor\n",
    "from sklearn.pipeline import make_pipeline\n",
    "from sklearn.preprocessing import StandardScaler\n",
    "\n",
    "X = codalab_data.iloc[:, 3:8].values\n",
    "Y = codalab_data.iloc[:,2].values\n",
    "label_encoder_Y = LabelEncoder()\n",
    "Y = label_encoder_Y.fit_transform(Y)\n",
    "\n",
    "kf=KFold(n_splits=10)\n",
    "splits=kf.split(X)\n",
    "\n",
    "for train_index, test_index in splits:\n",
    "    print(len(train_index),len(test_index))\n",
    "    \n",
    "\n",
    "rfr = RandomForestRegressor(n_estimators=25, random_state=1111)\n",
    "errors=[]\n",
    "for train_index, val_index in splits:\n",
    "    X_train, y_train = X[train_index], y[train_index]\n",
    "    X_val, y_val = X[val_index], y[val_index]\n",
    "\n",
    "    rfr.fit(X_train, y_train)\n",
    "    predictions = rfr.predict(X_test)\n",
    "    print(\"Split accuracy: \" + str(mean_squared_error(y_val, predictions)))\n",
    "# Access the training and validation indices of splits\n",
    "\n",
    "    \n",
    "    #model = LogisticRegression()\n",
    "    #results = cross_val_score(model, X, Y, cv=kfold)\n",
    "    #print(\"Accuracy: %.3f%% (%.3f%%)\" % (results.mean()*100.0, results.std()*100.0))\n",
    "    #print(len(X_val),len(y_val))\n",
    "    # Fit the random forest model\n",
    "    #\n",
    "    # Make predictions, and print the accuracy\n",
    "    #predictions = rfc.predict(X_val)\n",
    "    "
   ]
  },
  {
   "cell_type": "code",
   "execution_count": 33,
   "metadata": {},
   "outputs": [
    {
     "name": "stdout",
     "output_type": "stream",
     "text": [
      "Accuracy: 1.00 (+/- 0.00)\n"
     ]
    },
    {
     "name": "stderr",
     "output_type": "stream",
     "text": [
      "/Users/punitmashruwala/opt/anaconda3/lib/python3.8/site-packages/sklearn/utils/validation.py:73: DataConversionWarning: A column-vector y was passed when a 1d array was expected. Please change the shape of y to (n_samples, ), for example using ravel().\n",
      "  return f(**kwargs)\n",
      "/Users/punitmashruwala/opt/anaconda3/lib/python3.8/site-packages/sklearn/utils/validation.py:73: DataConversionWarning: A column-vector y was passed when a 1d array was expected. Please change the shape of y to (n_samples, ), for example using ravel().\n",
      "  return f(**kwargs)\n",
      "/Users/punitmashruwala/opt/anaconda3/lib/python3.8/site-packages/sklearn/utils/validation.py:73: DataConversionWarning: A column-vector y was passed when a 1d array was expected. Please change the shape of y to (n_samples, ), for example using ravel().\n",
      "  return f(**kwargs)\n",
      "/Users/punitmashruwala/opt/anaconda3/lib/python3.8/site-packages/sklearn/utils/validation.py:73: DataConversionWarning: A column-vector y was passed when a 1d array was expected. Please change the shape of y to (n_samples, ), for example using ravel().\n",
      "  return f(**kwargs)\n",
      "/Users/punitmashruwala/opt/anaconda3/lib/python3.8/site-packages/sklearn/utils/validation.py:73: DataConversionWarning: A column-vector y was passed when a 1d array was expected. Please change the shape of y to (n_samples, ), for example using ravel().\n",
      "  return f(**kwargs)\n",
      "/Users/punitmashruwala/opt/anaconda3/lib/python3.8/site-packages/sklearn/utils/validation.py:73: DataConversionWarning: A column-vector y was passed when a 1d array was expected. Please change the shape of y to (n_samples, ), for example using ravel().\n",
      "  return f(**kwargs)\n",
      "/Users/punitmashruwala/opt/anaconda3/lib/python3.8/site-packages/sklearn/utils/validation.py:73: DataConversionWarning: A column-vector y was passed when a 1d array was expected. Please change the shape of y to (n_samples, ), for example using ravel().\n",
      "  return f(**kwargs)\n",
      "/Users/punitmashruwala/opt/anaconda3/lib/python3.8/site-packages/sklearn/utils/validation.py:73: DataConversionWarning: A column-vector y was passed when a 1d array was expected. Please change the shape of y to (n_samples, ), for example using ravel().\n",
      "  return f(**kwargs)\n",
      "/Users/punitmashruwala/opt/anaconda3/lib/python3.8/site-packages/sklearn/utils/validation.py:73: DataConversionWarning: A column-vector y was passed when a 1d array was expected. Please change the shape of y to (n_samples, ), for example using ravel().\n",
      "  return f(**kwargs)\n",
      "/Users/punitmashruwala/opt/anaconda3/lib/python3.8/site-packages/sklearn/utils/validation.py:73: DataConversionWarning: A column-vector y was passed when a 1d array was expected. Please change the shape of y to (n_samples, ), for example using ravel().\n",
      "  return f(**kwargs)\n"
     ]
    }
   ],
   "source": [
    "from sklearn.model_selection import ShuffleSplit\n",
    "from sklearn import svm\n",
    "n_samples = X.shape[0]\n",
    "clf = svm.SVC(kernel='linear', C=1)\n",
    "cv = ShuffleSplit(n_splits=10, test_size=0.3, random_state=0)\n",
    "scores = cross_val_score(clf, X, y, cv=cv)\n",
    "print(\"Accuracy: %0.2f (+/- %0.2f)\" % (scores.mean(), scores.std() * 2))"
   ]
  },
  {
   "cell_type": "code",
   "execution_count": null,
   "metadata": {},
   "outputs": [],
   "source": []
  }
 ],
 "metadata": {
  "kernelspec": {
   "display_name": "Python 3",
   "language": "python",
   "name": "python3"
  },
  "language_info": {
   "codemirror_mode": {
    "name": "ipython",
    "version": 3
   },
   "file_extension": ".py",
   "mimetype": "text/x-python",
   "name": "python",
   "nbconvert_exporter": "python",
   "pygments_lexer": "ipython3",
   "version": "3.8.3"
  }
 },
 "nbformat": 4,
 "nbformat_minor": 4
}
